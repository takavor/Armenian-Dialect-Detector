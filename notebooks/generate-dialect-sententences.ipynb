{
 "cells": [
  {
   "cell_type": "markdown",
   "metadata": {},
   "source": [
    "## Data collection"
   ]
  },
  {
   "cell_type": "markdown",
   "metadata": {},
   "source": [
    "Sentences for both dialects will be collected from summaries of random Wikipedia pages."
   ]
  },
  {
   "cell_type": "code",
   "execution_count": 5,
   "metadata": {},
   "outputs": [],
   "source": [
    "NUM_PAGES_WESTERN = 50\n",
    "NUM_PAGES_EASTERN = 50"
   ]
  },
  {
   "cell_type": "code",
   "execution_count": 6,
   "metadata": {},
   "outputs": [],
   "source": [
    "import wikipedia\n",
    "from tqdm import tqdm\n",
    "from nltk.tokenize import sent_tokenize\n",
    "\n",
    "western_text = []\n",
    "eastern_text = []"
   ]
  },
  {
   "cell_type": "code",
   "execution_count": 7,
   "metadata": {},
   "outputs": [
    {
     "name": "stderr",
     "output_type": "stream",
     "text": [
      "100%|██████████| 50/50 [01:02<00:00,  1.25s/it]\n"
     ]
    }
   ],
   "source": [
    "# Western Armenian\n",
    "wikipedia.set_lang('hyw')\n",
    "for i in tqdm(range(NUM_PAGES_WESTERN)):\n",
    "    title = wikipedia.random()\n",
    "    page = wikipedia.search(title)\n",
    "    summary = wikipedia.summary(page)\n",
    "    sentences = sent_tokenize(summary)\n",
    "    western_text.extend(sentences)"
   ]
  },
  {
   "cell_type": "code",
   "execution_count": 8,
   "metadata": {},
   "outputs": [
    {
     "name": "stderr",
     "output_type": "stream",
     "text": [
      "100%|██████████| 50/50 [01:13<00:00,  1.48s/it]\n"
     ]
    }
   ],
   "source": [
    "# Eastern Armenian\n",
    "wikipedia.set_lang('hy')\n",
    "for i in tqdm(range(NUM_PAGES_EASTERN)):\n",
    "    title = wikipedia.random()\n",
    "    page = wikipedia.search(title)\n",
    "    summary = wikipedia.summary(page)\n",
    "    sentences = sent_tokenize(summary)\n",
    "    eastern_text.extend(sentences)"
   ]
  },
  {
   "cell_type": "markdown",
   "metadata": {},
   "source": [
    "## Data cleaning and preprocessing"
   ]
  },
  {
   "cell_type": "code",
   "execution_count": 9,
   "metadata": {},
   "outputs": [],
   "source": [
    "import re\n",
    "\n",
    "# function to remove non-Armenian characters from text\n",
    "def clean_text(text):\n",
    "    # regex for Armenian unicode\n",
    "    arm_regex = r'[\\u0530-\\u058F\\uFB00-\\uFB17\\s]+'\n",
    "    text = ' '.join(re.findall(arm_regex, text))\n",
    "    return text\n",
    "\n",
    "# clean data\n",
    "western_text = [clean_text(sentence) for sentence in western_text]\n",
    "eastern_text = [clean_text(sentence) for sentence in eastern_text]"
   ]
  },
  {
   "cell_type": "markdown",
   "metadata": {},
   "source": [
    "Write sentences to file."
   ]
  },
  {
   "cell_type": "code",
   "execution_count": 10,
   "metadata": {},
   "outputs": [],
   "source": [
    "with open('../data/western_sentences.txt', 'w', encoding='utf-8') as file:\n",
    "    for sentence in western_text:\n",
    "        file.write(sentence + '\\n')\n",
    "        \n",
    "with open('../data/eastern_sentences.txt', 'w', encoding='utf-8') as file:\n",
    "    for sentence in eastern_text:\n",
    "        file.write(sentence + '\\n')"
   ]
  }
 ],
 "metadata": {
  "kernelspec": {
   "display_name": "Python 3",
   "language": "python",
   "name": "python3"
  },
  "language_info": {
   "codemirror_mode": {
    "name": "ipython",
    "version": 3
   },
   "file_extension": ".py",
   "mimetype": "text/x-python",
   "name": "python",
   "nbconvert_exporter": "python",
   "pygments_lexer": "ipython3",
   "version": "3.10.0"
  }
 },
 "nbformat": 4,
 "nbformat_minor": 2
}

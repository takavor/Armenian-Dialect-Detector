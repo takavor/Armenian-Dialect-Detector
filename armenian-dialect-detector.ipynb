{
 "cells": [
  {
   "cell_type": "markdown",
   "metadata": {},
   "source": [
    "## Dependencies"
   ]
  },
  {
   "cell_type": "code",
   "execution_count": 8,
   "metadata": {},
   "outputs": [],
   "source": [
    "import wikipedia\n",
    "from tqdm import tqdm"
   ]
  },
  {
   "cell_type": "markdown",
   "metadata": {},
   "source": [
    "## Data collection"
   ]
  },
  {
   "cell_type": "markdown",
   "metadata": {},
   "source": [
    "Sentences for both dialects will be collected from summaries of random wikipedia pages."
   ]
  },
  {
   "cell_type": "code",
   "execution_count": 7,
   "metadata": {},
   "outputs": [],
   "source": [
    "NUM_PAGES_WESTERN = 50\n",
    "NUM_PAGES_EASTERN = 50"
   ]
  },
  {
   "cell_type": "code",
   "execution_count": 9,
   "metadata": {},
   "outputs": [
    {
     "name": "stderr",
     "output_type": "stream",
     "text": [
      "100%|██████████| 50/50 [01:19<00:00,  1.59s/it]\n",
      "100%|██████████| 50/50 [01:31<00:00,  1.83s/it]\n"
     ]
    }
   ],
   "source": [
    "western_text = []\n",
    "eastern_text = []\n",
    "\n",
    "# Western Armenian\n",
    "wikipedia.set_lang('hyw')\n",
    "for i in tqdm(range(NUM_PAGES_WESTERN)):\n",
    "    title = wikipedia.random()\n",
    "    page = wikipedia.search(title)\n",
    "    western_text.append(wikipedia.summary(page))\n",
    "    \n",
    "# Eastern Armenian\n",
    "wikipedia.set_lang('hy')\n",
    "for i in tqdm(range(NUM_PAGES_EASTERN)):\n",
    "    title = wikipedia.random()\n",
    "    page = wikipedia.search(title)\n",
    "    eastern_text.append(wikipedia.summary(page))"
   ]
  },
  {
   "cell_type": "markdown",
   "metadata": {},
   "source": [
    "TODO:\n",
    "\n",
    "-clean up texts (remove punctuation)\n",
    "\n",
    "-remove non-Armenian words"
   ]
  },
  {
   "cell_type": "markdown",
   "metadata": {},
   "source": [
    "Create corresponding labels and join texts."
   ]
  }
 ],
 "metadata": {
  "kernelspec": {
   "display_name": "Python 3",
   "language": "python",
   "name": "python3"
  },
  "language_info": {
   "codemirror_mode": {
    "name": "ipython",
    "version": 3
   },
   "file_extension": ".py",
   "mimetype": "text/x-python",
   "name": "python",
   "nbconvert_exporter": "python",
   "pygments_lexer": "ipython3",
   "version": "3.10.0"
  }
 },
 "nbformat": 4,
 "nbformat_minor": 2
}
